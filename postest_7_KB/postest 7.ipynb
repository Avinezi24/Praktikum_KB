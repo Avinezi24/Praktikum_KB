{
 "cells": [
  {
   "cell_type": "code",
   "execution_count": 1,
   "id": "2aac2f4c-fc3d-4883-b069-d4ebe47dc0fc",
   "metadata": {},
   "outputs": [
    {
     "data": {
      "text/plain": [
       "<tf.Tensor: shape=(5, 5), dtype=int32, numpy=\n",
       "array([[12, 21,  1, 96, 80],\n",
       "       [83, 65, 74, 76, 27],\n",
       "       [61, 95, 73, 27, 28],\n",
       "       [21, 32, 96, 42, 24],\n",
       "       [44, 74, 59, 13, 34]])>"
      ]
     },
     "execution_count": 1,
     "metadata": {},
     "output_type": "execute_result"
    }
   ],
   "source": [
    "import tensorflow as tf"
   ]
  },
  {
   "cell_type": "markdown",
   "id": "3d8bbfbd-bf56-4116-aaba-495472fdda0a",
   "metadata": {},
   "source": [
    "# Buatlah sebuah tensor dengan shape(5,5) dengan nilai random yang disimpan dalam variable random_tensor."
   ]
  },
  {
   "cell_type": "code",
   "execution_count": 4,
   "id": "334ad7df-b11d-4641-a403-374b4baea78b",
   "metadata": {},
   "outputs": [
    {
     "data": {
      "text/plain": [
       "<tf.Tensor: shape=(5, 5), dtype=int32, numpy=\n",
       "array([[54, 69, 55, 45, 88],\n",
       "       [48, 46, 30, 80,  4],\n",
       "       [26, 84, 46, 58, 58],\n",
       "       [27, 17, 52, 19, 20],\n",
       "       [33, 61, 69, 55, 64]])>"
      ]
     },
     "execution_count": 4,
     "metadata": {},
     "output_type": "execute_result"
    }
   ],
   "source": [
    "\n",
    "random_tensor=tf.random.uniform(shape=(5,5), minval=1, maxval=100, dtype=tf.int32 )\n",
    "random_tensor"
   ]
  },
  {
   "cell_type": "markdown",
   "id": "d247153d-28bc-4430-8552-c1aaf3f8844c",
   "metadata": {},
   "source": [
    "# Buatlah sebuah tensor dengan shape(5,5) dari sebuah list dengan nilai bilangan prima dalam variable prime_tensor."
   ]
  },
  {
   "cell_type": "code",
   "execution_count": 5,
   "id": "b5a1ccb0-6b91-464a-82cd-ccc38b171b57",
   "metadata": {},
   "outputs": [
    {
     "data": {
      "text/plain": [
       "<tf.Tensor: shape=(5, 5), dtype=int32, numpy=\n",
       "array([[ 2,  5,  7, 11, 17],\n",
       "       [ 3, 13, 19, 29, 23],\n",
       "       [31, 41, 37, 43, 47],\n",
       "       [ 2,  5,  7, 41, 43],\n",
       "       [17, 11,  7, 23, 37]])>"
      ]
     },
     "execution_count": 5,
     "metadata": {},
     "output_type": "execute_result"
    }
   ],
   "source": [
    "prime_tensor=tf.convert_to_tensor([[2,5,7,11,17],[3,13,19,29,23],[31,41,37,43,47],[2,5,7,41,43],[17,11,7,23,37]])\n",
    "prime_tensor"
   ]
  },
  {
   "cell_type": "markdown",
   "id": "3a8e5220-13f4-465f-af87-bc9328868c09",
   "metadata": {},
   "source": [
    "# tampilan dari kedua variable diatas"
   ]
  },
  {
   "cell_type": "code",
   "execution_count": 20,
   "id": "b15bb017-822b-4f73-af29-ae96cf352c3b",
   "metadata": {},
   "outputs": [
    {
     "name": "stdout",
     "output_type": "stream",
     "text": [
      "+---------------+---------+\n",
      "|      Nama     | Dimensi |\n",
      "+---------------+---------+\n",
      "| random_tensor |  (5, 5) |\n",
      "|  prime_tensor |  (5, 5) |\n",
      "+---------------+---------+\n"
     ]
    }
   ],
   "source": [
    "from prettytable import PrettyTable\n",
    "table=PrettyTable(['Nama', 'Dimensi'])\n",
    "table.add_row(['random_tensor', random_tensor.shape])\n",
    "table.add_row(['prime_tensor', prime_tensor.shape])\n",
    "print(table)"
   ]
  },
  {
   "cell_type": "markdown",
   "id": "f7c796aa-1b79-431a-882d-0bfe4c95ff2c",
   "metadata": {},
   "source": [
    "# Tampilkan hasil dari perhitungan aritmetika 2 variable tersebut (Gunakan minimal 5 operator)."
   ]
  },
  {
   "cell_type": "code",
   "execution_count": 23,
   "id": "c62098a2-6e31-4792-97df-d299e3022f06",
   "metadata": {},
   "outputs": [
    {
     "name": "stdout",
     "output_type": "stream",
     "text": [
      "+------------+-----------------------------------------------------------------------------------------------+\n",
      "| Aritmatika |                                             Hasil                                             |\n",
      "+------------+-----------------------------------------------------------------------------------------------+\n",
      "|   Tambah   |                                           tf.Tensor(                                          |\n",
      "|            |                                     [[ 56  74  62  56 105]                                    |\n",
      "|            |                                      [ 51  59  49 109  27]                                    |\n",
      "|            |                                      [ 57 125  83 101 105]                                    |\n",
      "|            |                                      [ 29  22  59  60  63]                                    |\n",
      "|            |                       [ 50  72  76  78 101]], shape=(5, 5), dtype=int32)                      |\n",
      "|            |                                                                                               |\n",
      "|   Kurang   |                                           tf.Tensor(                                          |\n",
      "|            |                                     [[ 52  64  48  34  71]                                    |\n",
      "|            |                                      [ 45  33  11  51 -19]                                    |\n",
      "|            |                                      [ -5  43   9  15  11]                                    |\n",
      "|            |                                      [ 25  12  45 -22 -23]                                    |\n",
      "|            |                       [ 16  50  62  32  27]], shape=(5, 5), dtype=int32)                      |\n",
      "|            |                                                                                               |\n",
      "| Perkalian  |                                           tf.Tensor(                                          |\n",
      "|            |                                  [[ 108  345  385  495 1496]                                  |\n",
      "|            |                                   [ 144  598  570 2320   92]                                  |\n",
      "|            |                                   [ 806 3444 1702 2494 2726]                                  |\n",
      "|            |                                   [  54   85  364  779  860]                                  |\n",
      "|            |                     [ 561  671  483 1265 2368]], shape=(5, 5), dtype=int32)                   |\n",
      "|            |                                                                                               |\n",
      "| Pembagian  |                                           tf.Tensor(                                          |\n",
      "|            |                 [[27.         13.8         7.85714286  4.09090909  5.17647059]                |\n",
      "|            |                  [16.          3.53846154  1.57894737  2.75862069  0.17391304]                |\n",
      "|            |                  [ 0.83870968  2.04878049  1.24324324  1.34883721  1.23404255]                |\n",
      "|            |                  [13.5         3.4         7.42857143  0.46341463  0.46511628]                |\n",
      "|            |  [ 1.94117647  5.54545455  9.85714286  2.39130435  1.72972973]], shape=(5, 5), dtype=float64) |\n",
      "|            |                                                                                               |\n",
      "|  Pangkat   |                                           tf.Tensor(                                          |\n",
      "|            |                 [[       2916  1564031349  2016811591   558664597           0]                |\n",
      "|            |                  [     110592  1320607744   829947904           0           0]                |\n",
      "|            |                  [-2147483648           0           0           0           0]                |\n",
      "|            |                  [        729     1419857  1574518784 -2008545037           0]                |\n",
      "|            |   [ -300539359  1597983941 -1120038675   671724487           0]], shape=(5, 5), dtype=int32)  |\n",
      "|            |                                                                                               |\n",
      "+------------+-----------------------------------------------------------------------------------------------+\n"
     ]
    }
   ],
   "source": [
    "aritmatika=PrettyTable(['Aritmatika', 'Hasil'])\n",
    "aritmatika.add_row(['Tambah',tf.add(random_tensor,prime_tensor)])\n",
    "aritmatika.add_row(['',''])\n",
    "aritmatika.add_row(['Kurang',tf.subtract(random_tensor,prime_tensor)])\n",
    "aritmatika.add_row(['',''])\n",
    "aritmatika.add_row(['Perkalian',tf.multiply(random_tensor,prime_tensor)])\n",
    "aritmatika.add_row(['',''])\n",
    "aritmatika.add_row(['Pembagian', tf.divide(random_tensor,prime_tensor)])\n",
    "aritmatika.add_row(['',''])\n",
    "aritmatika.add_row(['Pangkat', tf.pow(random_tensor,prime_tensor)])\n",
    "aritmatika.add_row(['',''])\n",
    "print(aritmatika)"
   ]
  },
  {
   "cell_type": "code",
   "execution_count": 24,
   "id": "cf0ff1ea-7cbf-42a7-acd1-f6c2704ad946",
   "metadata": {},
   "outputs": [],
   "source": [
    "# nilai maksimum dan minimum variabel random_tensor"
   ]
  },
  {
   "cell_type": "code",
   "execution_count": 25,
   "id": "b5e88c07-6809-4dc9-846e-813341edd140",
   "metadata": {},
   "outputs": [
    {
     "name": "stdout",
     "output_type": "stream",
     "text": [
      "+----------+-------------------------------------------------+------------------------------+\n",
      "|  Nilai   |                   Setiap Index                  | Nilai Variabel Random_tensor |\n",
      "+----------+-------------------------------------------------+------------------------------+\n",
      "| Minimum  | tf.Tensor([2 3 1 3 1], shape=(5,), dtype=int64) |              4               |\n",
      "| Maksimum | tf.Tensor([0 2 4 1 0], shape=(5,), dtype=int64) |              88              |\n",
      "+----------+-------------------------------------------------+------------------------------+\n"
     ]
    }
   ],
   "source": [
    "import numpy as np\n",
    "\n",
    "\n",
    "max_row=tf.argmax(random_tensor,axis=0)\n",
    "min_row=tf.argmin(random_tensor,axis=0)\n",
    "minim=np.min(random_tensor)\n",
    "maxim=np.max(random_tensor)\n",
    "tabel_min_max=PrettyTable(['Nilai', 'Setiap Index', 'Nilai Variabel Random_tensor'])\n",
    "tabel_min_max.add_row(['Minimum', min_row,minim])\n",
    "tabel_min_max.add_row(['Maksimum', max_row,maxim])\n",
    "print(tabel_min_max)"
   ]
  },
  {
   "cell_type": "markdown",
   "id": "a5d3e567-4ef5-405c-83ee-29bf9fd645ca",
   "metadata": {},
   "source": [
    "# Tampilkan hasil dari penggabungan variable random_tensor dengan prime_tensor (concatenation)"
   ]
  },
  {
   "cell_type": "code",
   "execution_count": 27,
   "id": "a95356a1-523b-428d-8263-88bf0b46de5a",
   "metadata": {},
   "outputs": [
    {
     "data": {
      "text/plain": [
       "<tf.Tensor: shape=(5, 10), dtype=int32, numpy=\n",
       "array([[54, 69, 55, 45, 88,  2,  5,  7, 11, 17],\n",
       "       [48, 46, 30, 80,  4,  3, 13, 19, 29, 23],\n",
       "       [26, 84, 46, 58, 58, 31, 41, 37, 43, 47],\n",
       "       [27, 17, 52, 19, 20,  2,  5,  7, 41, 43],\n",
       "       [33, 61, 69, 55, 64, 17, 11,  7, 23, 37]])>"
      ]
     },
     "execution_count": 27,
     "metadata": {},
     "output_type": "execute_result"
    }
   ],
   "source": [
    "Concat=tf.concat([random_tensor,prime_tensor], axis=1)\n",
    "Concat"
   ]
  },
  {
   "cell_type": "code",
   "execution_count": 28,
   "id": "004bee67-f492-44a8-bad0-9285031a7a5c",
   "metadata": {},
   "outputs": [],
   "source": [
    "# tampilan kedua variabel yang telah disorting secara descending"
   ]
  },
  {
   "cell_type": "code",
   "execution_count": 29,
   "id": "a87ad9cf-2d10-43c2-8d29-6502d094beab",
   "metadata": {},
   "outputs": [
    {
     "data": {
      "text/plain": [
       "<tf.Tensor: shape=(5, 5), dtype=int32, numpy=\n",
       "array([[88, 69, 55, 54, 45],\n",
       "       [80, 48, 46, 30,  4],\n",
       "       [84, 58, 58, 46, 26],\n",
       "       [52, 27, 20, 19, 17],\n",
       "       [69, 64, 61, 55, 33]])>"
      ]
     },
     "execution_count": 29,
     "metadata": {},
     "output_type": "execute_result"
    }
   ],
   "source": [
    "random_desc=tf.sort(random_tensor,direction='DESCENDING')\n",
    "\n",
    "random_desc"
   ]
  },
  {
   "cell_type": "code",
   "execution_count": 30,
   "id": "d0d65ddf-3a34-49b5-8e86-a9116200a062",
   "metadata": {},
   "outputs": [
    {
     "data": {
      "text/plain": [
       "<tf.Tensor: shape=(5, 5), dtype=int32, numpy=\n",
       "array([[17, 11,  7,  5,  2],\n",
       "       [29, 23, 19, 13,  3],\n",
       "       [47, 43, 41, 37, 31],\n",
       "       [43, 41,  7,  5,  2],\n",
       "       [37, 23, 17, 11,  7]])>"
      ]
     },
     "execution_count": 30,
     "metadata": {},
     "output_type": "execute_result"
    }
   ],
   "source": [
    "prime_desc=tf.sort(prime_tensor,direction='DESCENDING')\n",
    "prime_desc"
   ]
  },
  {
   "cell_type": "code",
   "execution_count": null,
   "id": "20924608-64c0-4ef0-aab6-10fa793958d7",
   "metadata": {},
   "outputs": [],
   "source": []
  }
 ],
 "metadata": {
  "kernelspec": {
   "display_name": "Python 3 (ipykernel)",
   "language": "python",
   "name": "python3"
  },
  "language_info": {
   "codemirror_mode": {
    "name": "ipython",
    "version": 3
   },
   "file_extension": ".py",
   "mimetype": "text/x-python",
   "name": "python",
   "nbconvert_exporter": "python",
   "pygments_lexer": "ipython3",
   "version": "3.10.7"
  }
 },
 "nbformat": 4,
 "nbformat_minor": 5
}
